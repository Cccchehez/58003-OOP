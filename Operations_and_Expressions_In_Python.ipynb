{
  "nbformat": 4,
  "nbformat_minor": 0,
  "metadata": {
    "colab": {
      "provenance": [],
      "authorship_tag": "ABX9TyPz5wXHmQG0PJFQWMAtb8N3",
      "include_colab_link": true
    },
    "kernelspec": {
      "name": "python3",
      "display_name": "Python 3"
    },
    "language_info": {
      "name": "python"
    }
  },
  "cells": [
    {
      "cell_type": "markdown",
      "metadata": {
        "id": "view-in-github",
        "colab_type": "text"
      },
      "source": [
        "<a href=\"https://colab.research.google.com/github/RemaldoraCarl/58003-OOP/blob/main/Operations_and_Expressions_In_Python.ipynb\" target=\"_parent\"><img src=\"https://colab.research.google.com/assets/colab-badge.svg\" alt=\"Open In Colab\"/></a>"
      ]
    },
    {
      "cell_type": "markdown",
      "source": [
        "Boolean Operators"
      ],
      "metadata": {
        "id": "eXsNN6_Q01Yy"
      }
    },
    {
      "cell_type": "code",
      "execution_count": 1,
      "metadata": {
        "colab": {
          "base_uri": "https://localhost:8080/"
        },
        "id": "KvGpon5Z0xSy",
        "outputId": "2d24812b-c941-4c2d-e592-ceb336b8f865"
      },
      "outputs": [
        {
          "output_type": "stream",
          "name": "stdout",
          "text": [
            "False\n",
            "False\n",
            "True\n",
            "True\n",
            "True\n"
          ]
        }
      ],
      "source": [
        "print(10<9)\n",
        "print(10==9)\n",
        "print(10>9)\n",
        "print(10==10)\n",
        "print(9==9)"
      ]
    },
    {
      "cell_type": "code",
      "source": [
        "#Bool() Function\n",
        "print(bool(1))\n",
        "print(bool(\"Maria\"))\n",
        "print(bool(-1))\n",
        "print(bool(0))\n",
        "print(bool(None))\n",
        "print(bool([]))"
      ],
      "metadata": {
        "colab": {
          "base_uri": "https://localhost:8080/"
        },
        "id": "SDmpELoE02Ih",
        "outputId": "17ab7f33-6a5d-4be1-fe76-2b736f8f9372"
      },
      "execution_count": 2,
      "outputs": [
        {
          "output_type": "stream",
          "name": "stdout",
          "text": [
            "True\n",
            "True\n",
            "True\n",
            "False\n",
            "False\n",
            "False\n"
          ]
        }
      ]
    },
    {
      "cell_type": "code",
      "source": [
        "\n",
        "#Function can Return a Boolean\n",
        "def myFunction():\n",
        "  return True \n",
        "print(myFunction())\n"
      ],
      "metadata": {
        "colab": {
          "base_uri": "https://localhost:8080/"
        },
        "id": "eclFwsqj1FJJ",
        "outputId": "1a0b93ca-083b-41b8-b1a7-3e020cf47fe2"
      },
      "execution_count": 3,
      "outputs": [
        {
          "output_type": "stream",
          "name": "stdout",
          "text": [
            "True\n"
          ]
        }
      ]
    },
    {
      "cell_type": "markdown",
      "source": [
        "Python Operators"
      ],
      "metadata": {
        "id": "Q0ZaLHC300Qz"
      }
    },
    {
      "cell_type": "code",
      "source": [
        "print(10+5)\n",
        "print(10-5)\n",
        "print(10*5)\n",
        "print(10/5)\n",
        "print(10//3)\n",
        "print(10%3)\n",
        "     "
      ],
      "metadata": {
        "colab": {
          "base_uri": "https://localhost:8080/"
        },
        "id": "6-EtzEVV1M05",
        "outputId": "07334361-f953-4dc2-aed9-10d515983510"
      },
      "execution_count": 4,
      "outputs": [
        {
          "output_type": "stream",
          "name": "stdout",
          "text": [
            "15\n",
            "5\n",
            "50\n",
            "2.0\n",
            "3\n",
            "1\n"
          ]
        }
      ]
    },
    {
      "cell_type": "markdown",
      "source": [
        "Bitwise Operator"
      ],
      "metadata": {
        "id": "dD6W9Jbm1PQK"
      }
    },
    {
      "cell_type": "code",
      "source": [
        "a = 60\n",
        "b = 13\n",
        "\n",
        "print(a&b)\n",
        "print(a | b)\n",
        "print(a<<1)\n",
        "print(a<<2)\n",
        "     "
      ],
      "metadata": {
        "colab": {
          "base_uri": "https://localhost:8080/"
        },
        "id": "BAyVIbEf1Oya",
        "outputId": "e810f6af-a5c0-4402-d01d-811e8cf324f5"
      },
      "execution_count": 5,
      "outputs": [
        {
          "output_type": "stream",
          "name": "stdout",
          "text": [
            "12\n",
            "61\n",
            "120\n",
            "240\n"
          ]
        }
      ]
    },
    {
      "cell_type": "markdown",
      "source": [
        "Python Assignment Operators\n"
      ],
      "metadata": {
        "id": "Btq56qrS1WCC"
      }
    },
    {
      "cell_type": "code",
      "source": [
        "\n",
        "x=6\n",
        "x+=3 #same as x = x + 3 \n",
        "              # x = (6) + 3 = 9\n",
        "print(x)"
      ],
      "metadata": {
        "colab": {
          "base_uri": "https://localhost:8080/"
        },
        "id": "mRoSeaLV1WuT",
        "outputId": "1a142c83-ce5a-403e-fde3-461ebc757532"
      },
      "execution_count": 6,
      "outputs": [
        {
          "output_type": "stream",
          "name": "stdout",
          "text": [
            "9\n"
          ]
        }
      ]
    },
    {
      "cell_type": "markdown",
      "source": [
        "Logical operator"
      ],
      "metadata": {
        "id": "K57dGJ5N1ZE7"
      }
    },
    {
      "cell_type": "code",
      "source": [
        "t= True\n",
        "s= False\n",
        "\n",
        "print(t and s)\n",
        "print(t or s)\n",
        "print(not (t or s)) #not(True) = False "
      ],
      "metadata": {
        "colab": {
          "base_uri": "https://localhost:8080/"
        },
        "id": "BiA-mOIg1ZjE",
        "outputId": "5766852f-dfac-464d-d101-aa16cd0c597c"
      },
      "execution_count": 7,
      "outputs": [
        {
          "output_type": "stream",
          "name": "stdout",
          "text": [
            "False\n",
            "True\n",
            "False\n"
          ]
        }
      ]
    },
    {
      "cell_type": "code",
      "source": [
        "#is is not\n",
        "\n",
        "t = True\n",
        "s = False\n",
        "print(t is t)\n",
        "print(t is s)\n",
        "print(t is not s)\n"
      ],
      "metadata": {
        "colab": {
          "base_uri": "https://localhost:8080/"
        },
        "id": "dclY7Vge1c9n",
        "outputId": "1dbf1143-a8e1-4807-cdfc-fdf696232e68"
      },
      "execution_count": 8,
      "outputs": [
        {
          "output_type": "stream",
          "name": "stdout",
          "text": [
            "True\n",
            "False\n",
            "True\n"
          ]
        }
      ]
    },
    {
      "cell_type": "markdown",
      "source": [
        "Application 1 Create a Standard Calculator (MDAS)\n"
      ],
      "metadata": {
        "id": "1MhijCLE1gBf"
      }
    },
    {
      "cell_type": "code",
      "source": [
        "\n",
        "x=int(input())\n",
        "y=int(input())\n",
        "\n",
        "z=x+y\n",
        "print(z)\n",
        "\n"
      ],
      "metadata": {
        "colab": {
          "base_uri": "https://localhost:8080/"
        },
        "id": "GRTsbENF1gm3",
        "outputId": "e2ee22fb-4854-4d74-eb04-40b15c0f04f3"
      },
      "execution_count": null,
      "outputs": [
        {
          "name": "stdout",
          "output_type": "stream",
          "text": [
            "2\n"
          ]
        }
      ]
    }
  ]
}