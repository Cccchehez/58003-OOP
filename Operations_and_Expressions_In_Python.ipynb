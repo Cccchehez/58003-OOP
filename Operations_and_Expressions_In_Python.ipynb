{
  "nbformat": 4,
  "nbformat_minor": 0,
  "metadata": {
    "colab": {
      "provenance": [],
      "authorship_tag": "ABX9TyNtskYd5rHN45OvirwdMbI9",
      "include_colab_link": true
    },
    "kernelspec": {
      "name": "python3",
      "display_name": "Python 3"
    },
    "language_info": {
      "name": "python"
    }
  },
  "cells": [
    {
      "cell_type": "markdown",
      "metadata": {
        "id": "view-in-github",
        "colab_type": "text"
      },
      "source": [
        "<a href=\"https://colab.research.google.com/github/Cccchehez/58003-OOP/blob/main/Operations_and_Expressions_In_Python.ipynb\" target=\"_parent\"><img src=\"https://colab.research.google.com/assets/colab-badge.svg\" alt=\"Open In Colab\"/></a>"
      ]
    },
    {
      "cell_type": "code",
      "execution_count": 8,
      "metadata": {
        "colab": {
          "base_uri": "https://localhost:8080/"
        },
        "id": "J77Q3Uowstmo",
        "outputId": "91fe2adb-052a-4064-ac6d-9f7b16a55b18"
      },
      "outputs": [
        {
          "output_type": "stream",
          "name": "stdout",
          "text": [
            "True\n",
            "False\n",
            "True\n"
          ]
        }
      ],
      "source": [
        "#is or is not\n",
        "\n",
        "t= True\n",
        "f= False\n",
        "\n",
        "print (t is t)\n",
        "print (t is f)\n",
        "print (t is not f)"
      ]
    },
    {
      "cell_type": "markdown",
      "source": [
        "Application 1 Create a standard calculator (MDAS)\n"
      ],
      "metadata": {
        "id": "QqwTeL5cuLOK"
      }
    },
    {
      "cell_type": "code",
      "source": [
        "x=int(input))\n",
        "y=int(input))\n",
        "\n",
        "if                                                "
      ],
      "metadata": {
        "id": "P1tTC1rLwA4P"
      },
      "execution_count": 8,
      "outputs": []
    }
  ]
}