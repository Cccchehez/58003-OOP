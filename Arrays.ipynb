{
  "nbformat": 4,
  "nbformat_minor": 0,
  "metadata": {
    "colab": {
      "provenance": [],
      "authorship_tag": "ABX9TyN600cjPGuc92vaz6o4iOFh",
      "include_colab_link": true
    },
    "kernelspec": {
      "name": "python3",
      "display_name": "Python 3"
    },
    "language_info": {
      "name": "python"
    }
  },
  "cells": [
    {
      "cell_type": "markdown",
      "metadata": {
        "id": "view-in-github",
        "colab_type": "text"
      },
      "source": [
        "<a href=\"https://colab.research.google.com/github/RemaldoraCarl/58003-OOP/blob/main/Arrays.ipynb\" target=\"_parent\"><img src=\"https://colab.research.google.com/assets/colab-badge.svg\" alt=\"Open In Colab\"/></a>"
      ]
    },
    {
      "cell_type": "code",
      "execution_count": 1,
      "metadata": {
        "colab": {
          "base_uri": "https://localhost:8080/"
        },
        "id": "Gem6Gj6a0FWy",
        "outputId": "f306e99a-86b6-4ad3-9408-415b3fbca1fd"
      },
      "outputs": [
        {
          "output_type": "stream",
          "name": "stdout",
          "text": [
            "cat\n",
            "dog\n",
            "fish\n"
          ]
        }
      ],
      "source": [
        "#Creating array elements\n",
        "animals = [\"cat\", 'dog', 'fish']\n",
        "x = animals[0]\n",
        "print (x)\n",
        "y = animals [1]\n",
        "print(y)\n",
        "z = animals [2]\n",
        "print(z)\n"
      ]
    },
    {
      "cell_type": "code",
      "source": [
        "#Modifying array elements\n",
        "animals[0]='monkey'\n",
        "print(animals[0])\n",
        "print(\"The array of animals:\", animals)\n",
        "     "
      ],
      "metadata": {
        "colab": {
          "base_uri": "https://localhost:8080/"
        },
        "id": "yybomnLr0HEz",
        "outputId": "0e6eecb4-72de-416d-f129-f4adac375fd8"
      },
      "execution_count": 2,
      "outputs": [
        {
          "output_type": "stream",
          "name": "stdout",
          "text": [
            "monkey\n",
            "The array of animals: ['monkey', 'dog', 'fish']\n"
          ]
        }
      ]
    },
    {
      "cell_type": "code",
      "source": [
        "#Length of an array\n",
        "x = len(animals)\n",
        "print(x)\n",
        "     "
      ],
      "metadata": {
        "colab": {
          "base_uri": "https://localhost:8080/"
        },
        "id": "J4O5NT2J0JBl",
        "outputId": "8d0dae85-0d8d-40ae-c704-c43a9d6e99da"
      },
      "execution_count": 3,
      "outputs": [
        {
          "output_type": "stream",
          "name": "stdout",
          "text": [
            "3\n"
          ]
        }
      ]
    },
    {
      "cell_type": "code",
      "source": [
        "#Deletion of elements in an array\n",
        "\n",
        "print(animals)"
      ],
      "metadata": {
        "colab": {
          "base_uri": "https://localhost:8080/"
        },
        "id": "unxpkgOd0KGz",
        "outputId": "675148d9-da5c-415c-90eb-f216f8edf759"
      },
      "execution_count": 4,
      "outputs": [
        {
          "output_type": "stream",
          "name": "stdout",
          "text": [
            "['monkey', 'dog', 'fish']\n"
          ]
        }
      ]
    },
    {
      "cell_type": "code",
      "source": [
        "#append element in array\n",
        "animals = ['monkey','cat','dog', 'fish']\n",
        "animals.append(\"bird\")\n",
        "print(animals)"
      ],
      "metadata": {
        "colab": {
          "base_uri": "https://localhost:8080/"
        },
        "id": "InXM0hfo0NsV",
        "outputId": "f2ee05d5-5368-4385-abfd-c6484f1e9dc6"
      },
      "execution_count": 5,
      "outputs": [
        {
          "output_type": "stream",
          "name": "stdout",
          "text": [
            "['monkey', 'cat', 'dog', 'fish', 'bird']\n"
          ]
        }
      ]
    },
    {
      "cell_type": "code",
      "source": [
        "#insert an element in an array\n",
        "animals = ['monkey','cat','dog', 'fish']\n",
        "animals.insert(0, \"bird\")\n",
        "print(animals)\n",
        "animals.insert(2, \"lion\")  \n",
        "print(animals)            "
      ],
      "metadata": {
        "colab": {
          "base_uri": "https://localhost:8080/"
        },
        "id": "zPqsKUTe0T0Z",
        "outputId": "3691cbcb-16c0-43fa-9e95-5cc9e45c3962"
      },
      "execution_count": 6,
      "outputs": [
        {
          "output_type": "stream",
          "name": "stdout",
          "text": [
            "['bird', 'monkey', 'cat', 'dog', 'fish']\n",
            "['bird', 'monkey', 'lion', 'cat', 'dog', 'fish']\n"
          ]
        }
      ]
    },
    {
      "cell_type": "code",
      "source": [
        "#delete dog from array elements\n",
        "print(animals)\n",
        "animals.remove(\"dog\")\n",
        "print(animals)"
      ],
      "metadata": {
        "colab": {
          "base_uri": "https://localhost:8080/"
        },
        "id": "kF9mU4yJ0Wdq",
        "outputId": "b716afe6-11fc-4f0b-c891-7366ca0dc904"
      },
      "execution_count": 7,
      "outputs": [
        {
          "output_type": "stream",
          "name": "stdout",
          "text": [
            "['bird', 'monkey', 'lion', 'cat', 'dog', 'fish']\n",
            "['bird', 'monkey', 'lion', 'cat', 'fish']\n"
          ]
        }
      ]
    }
  ]
}