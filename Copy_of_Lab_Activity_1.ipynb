{
  "nbformat": 4,
  "nbformat_minor": 0,
  "metadata": {
    "colab": {
      "provenance": [],
      "authorship_tag": "ABX9TyORWxXsEC1wYRg67THYuAnA",
      "include_colab_link": true
    },
    "kernelspec": {
      "name": "python3",
      "display_name": "Python 3"
    },
    "language_info": {
      "name": "python"
    }
  },
  "cells": [
    {
      "cell_type": "markdown",
      "metadata": {
        "id": "view-in-github",
        "colab_type": "text"
      },
      "source": [
        "<a href=\"https://colab.research.google.com/github/RemaldoraCarl/58003-OOP/blob/main/Copy_of_Lab_Activity_1.ipynb\" target=\"_parent\"><img src=\"https://colab.research.google.com/assets/colab-badge.svg\" alt=\"Open In Colab\"/></a>"
      ]
    },
    {
      "cell_type": "code",
      "execution_count": 1,
      "metadata": {
        "colab": {
          "base_uri": "https://localhost:8080/"
        },
        "id": "jJxNSwMTZ9Ix",
        "outputId": "be19feae-6741-475a-cbee-3ddaf1896deb"
      },
      "outputs": [
        {
          "output_type": "stream",
          "name": "stdout",
          "text": [
            "1275\n",
            "Average 25.5\n"
          ]
        }
      ],
      "source": [
        "n = 50\n",
        "totalno = n\n",
        "sum = 0\n",
        "average = 0\n",
        "while n>=0:\n",
        "  sum +=n\n",
        "  n-=1\n",
        "\n",
        "else:\n",
        "  print(sum)\n",
        "  \n",
        "average = sum/totalno\n",
        "print(\"Average\", average)"
      ]
    }
  ]
}