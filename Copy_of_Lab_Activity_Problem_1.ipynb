{
  "nbformat": 4,
  "nbformat_minor": 0,
  "metadata": {
    "colab": {
      "provenance": [],
      "toc_visible": true,
      "authorship_tag": "ABX9TyOwmh1BmbUSLFU/IHxDCtMv",
      "include_colab_link": true
    },
    "kernelspec": {
      "name": "python3",
      "display_name": "Python 3"
    },
    "language_info": {
      "name": "python"
    }
  },
  "cells": [
    {
      "cell_type": "markdown",
      "metadata": {
        "id": "view-in-github",
        "colab_type": "text"
      },
      "source": [
        "<a href=\"https://colab.research.google.com/github/RemaldoraCarl/58003-OOP/blob/main/Copy_of_Lab_Activity_Problem_1.ipynb\" target=\"_parent\"><img src=\"https://colab.research.google.com/assets/colab-badge.svg\" alt=\"Open In Colab\"/></a>"
      ]
    },
    {
      "cell_type": "code",
      "execution_count": null,
      "metadata": {
        "colab": {
          "base_uri": "https://localhost:8080/"
        },
        "id": "iLcE18i11WTB",
        "outputId": "1082e46e-e61d-4b54-fea6-9b7be19b291b"
      },
      "outputs": [
        {
          "output_type": "stream",
          "name": "stdout",
          "text": [
            "sum = 1275\n",
            "Average = 25.5\n"
          ]
        }
      ],
      "source": [
        "n=50\n",
        "sum=0\n",
        "average=0\n",
        "totalno=n\n",
        "\n",
        "while n>=0:\n",
        "  sum+=n\n",
        "  n-=1\n",
        "if n<=0:\n",
        "  print(\"sum =\",sum)\n",
        "\n",
        "average = sum/totalno\n",
        "print(\"Average =\",average)\n",
        "     "
      ]
    }
  ]
}