{
  "nbformat": 4,
  "nbformat_minor": 0,
  "metadata": {
    "colab": {
      "provenance": [],
      "authorship_tag": "ABX9TyN4lyYnmQ8HEfC1I+ZsEmhk",
      "include_colab_link": true
    },
    "kernelspec": {
      "name": "python3",
      "display_name": "Python 3"
    },
    "language_info": {
      "name": "python"
    }
  },
  "cells": [
    {
      "cell_type": "markdown",
      "metadata": {
        "id": "view-in-github",
        "colab_type": "text"
      },
      "source": [
        "<a href=\"https://colab.research.google.com/github/RemaldoraCarl/58003-OOP/blob/main/Lab_Activity_2.ipynb\" target=\"_parent\"><img src=\"https://colab.research.google.com/assets/colab-badge.svg\" alt=\"Open In Colab\"/></a>"
      ]
    },
    {
      "cell_type": "code",
      "execution_count": 1,
      "metadata": {
        "colab": {
          "base_uri": "https://localhost:8080/"
        },
        "id": "z2cu_YU-V_t5",
        "outputId": "24b6cf50-cd45-47fb-dbdf-080d743e57e2"
      },
      "outputs": [
        {
          "output_type": "stream",
          "name": "stdout",
          "text": [
            "Input the radius of the circle : 1.1\n",
            "The area of the circle with radius 1.1 is: 3.8013271108436504\n"
          ]
        }
      ],
      "source": [
        "from math import pi\n",
        "r = float(input (\"Input the radius of the circle : \"))\n",
        "print (\"The area of the circle with radius \" + str(r) + \" is: \" + str(pi * r**2))"
      ]
    },
    {
      "cell_type": "code",
      "source": [
        "class Circle():\n",
        "    def __init__(self, r):\n",
        "        self.radius = r\n",
        "\n",
        "    def area(self):\n",
        "        return self.radius**2*3.14\n",
        "    \n",
        "    def perimeter(self):\n",
        "        return 2*self.radius*3.14\n",
        "\n",
        "NewCircle = Circle(8)\n",
        "print(NewCircle.area())\n",
        "print(NewCircle.perimeter())"
      ],
      "metadata": {
        "colab": {
          "base_uri": "https://localhost:8080/"
        },
        "id": "mKvGbh2RYtlB",
        "outputId": "e54e18a8-5f35-475b-c791-e46113b11323"
      },
      "execution_count": 2,
      "outputs": [
        {
          "output_type": "stream",
          "name": "stdout",
          "text": [
            "200.96\n",
            "50.24\n"
          ]
        }
      ]
    },
    {
      "cell_type": "code",
      "source": [
        "class Circle:\n",
        "    pi = 3.14159\n",
        "\n",
        "    def __init__(self, radius):\n",
        "        self.radius = radius\n",
        "\n",
        "    def Perimeter(self):\n",
        "        return 2 * Circle.pi * self.radius\n",
        "\n",
        "    def Area(self):\n",
        "        return Circle.pi * self.radius ** 2\n",
        "\n",
        "    def Display(self):\n",
        "        print(f\"The perimeter of the circle is: {self.Perimeter():.2f}\")\n",
        "        print(f\"The area of the circle is: {self.Area():.2f}\")\n",
        "        "
      ],
      "metadata": {
        "id": "VniX2KvGbjxq"
      },
      "execution_count": 3,
      "outputs": []
    },
    {
      "cell_type": "code",
      "source": [
        "class Circle:\n",
        "    pi = 3.14159\n",
        "\n",
        "    def __init__(self, radius):\n",
        "        self.radius = radius\n",
        "\n",
        "    def Perimeter(self):\n",
        "        return 2 * Circle.pi * self.radius\n",
        "\n",
        "    def Area(self):\n",
        "        return Circle.pi * self.radius ** 2\n",
        "\n",
        "    def Display(self):\n",
        "        print(f\"The perimeter of the circle is: {self.Perimeter():.2f}\")\n",
        "        print(f\"The area of the circle is: {self.Area():.2f}\")\n",
        "\n",
        "# Taking user input for the radius of the circle\n",
        "radius = float(input(\"Enter the radius of the circle: \"))\n",
        "\n",
        "# Creating an instance of the Circle class\n",
        "circle = Circle(radius)\n",
        "\n",
        "# Calling the Display method to print the perimeter and area of the circle\n",
        "circle.Display()"
      ],
      "metadata": {
        "colab": {
          "base_uri": "https://localhost:8080/"
        },
        "id": "IRg4Yg5JpVap",
        "outputId": "b2446350-8dc8-4133-c79c-b9f4e304a430"
      },
      "execution_count": 4,
      "outputs": [
        {
          "output_type": "stream",
          "name": "stdout",
          "text": [
            "Enter the radius of the circle: 1.9\n",
            "The perimeter of the circle is: 11.94\n",
            "The area of the circle is: 11.34\n"
          ]
        }
      ]
    }
  ]
}