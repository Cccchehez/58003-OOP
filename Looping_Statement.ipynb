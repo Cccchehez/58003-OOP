{
  "nbformat": 4,
  "nbformat_minor": 0,
  "metadata": {
    "colab": {
      "provenance": [],
      "toc_visible": true,
      "authorship_tag": "ABX9TyMKqWkp42ogqzuRzCzC8j8c",
      "include_colab_link": true
    },
    "kernelspec": {
      "name": "python3",
      "display_name": "Python 3"
    },
    "language_info": {
      "name": "python"
    }
  },
  "cells": [
    {
      "cell_type": "markdown",
      "metadata": {
        "id": "view-in-github",
        "colab_type": "text"
      },
      "source": [
        "<a href=\"https://colab.research.google.com/github/RemaldoraCarl/58003-OOP/blob/main/Looping_Statement.ipynb\" target=\"_parent\"><img src=\"https://colab.research.google.com/assets/colab-badge.svg\" alt=\"Open In Colab\"/></a>"
      ]
    },
    {
      "cell_type": "code",
      "execution_count": 1,
      "metadata": {
        "colab": {
          "base_uri": "https://localhost:8080/"
        },
        "id": "kaFSa6ljNG9D",
        "outputId": "51cedfa5-be08-4230-ae14-4aba74f0bccd"
      },
      "outputs": [
        {
          "output_type": "stream",
          "name": "stdout",
          "text": [
            "Sunday\n",
            "Monday\n",
            "Tuesday\n",
            "Wednesday\n",
            "Thursday\n",
            "Friday\n",
            "Saturday\n"
          ]
        }
      ],
      "source": [
        "\n",
        "week = [\"Sunday\", \"Monday\", \"Tuesday\", \"Wednesday\", \"Thursday\",\"Friday\",\"Saturday\"]\n",
        "\n",
        "for x in week:\n",
        "  print(x)"
      ]
    },
    {
      "cell_type": "code",
      "source": [
        "adjective = [\"big\",\"tasty\",\"juicy\"]\n",
        "fruits = [\"banana\", \"apple\",\"cherry\"]\n",
        "for x in adjective:\n",
        "  for y in fruits:\n",
        "    print(x,y)\n",
        "     "
      ],
      "metadata": {
        "colab": {
          "base_uri": "https://localhost:8080/"
        },
        "id": "v1zvmE4CStYO",
        "outputId": "426297e7-b384-43ca-db38-5d68ed64a44e"
      },
      "execution_count": 2,
      "outputs": [
        {
          "output_type": "stream",
          "name": "stdout",
          "text": [
            "big banana\n",
            "big apple\n",
            "big cherry\n",
            "tasty banana\n",
            "tasty apple\n",
            "tasty cherry\n",
            "juicy banana\n",
            "juicy apple\n",
            "juicy cherry\n"
          ]
        }
      ]
    },
    {
      "cell_type": "markdown",
      "source": [
        "Break Statement in for Loop\n"
      ],
      "metadata": {
        "id": "hEw5E0CvSyQ9"
      }
    },
    {
      "cell_type": "code",
      "source": [
        "week = [\"Sunday\", \"Monday\", \"Tuesday\", \"Wednesday\", \"Thursday\",\"Friday\",\"Saturday\"]\n",
        "for x in week:\n",
        "  if x==\"Thursday\":\n",
        "    break\n",
        "  print(x)"
      ],
      "metadata": {
        "colab": {
          "base_uri": "https://localhost:8080/"
        },
        "id": "nmFU9MHCSvws",
        "outputId": "166c660e-7703-41a9-d745-8b334e776549"
      },
      "execution_count": 3,
      "outputs": [
        {
          "output_type": "stream",
          "name": "stdout",
          "text": [
            "Sunday\n",
            "Monday\n",
            "Tuesday\n",
            "Wednesday\n"
          ]
        }
      ]
    },
    {
      "cell_type": "markdown",
      "source": [
        "Print only Thursday using break statement in for loop"
      ],
      "metadata": {
        "id": "hqLct8OaS320"
      }
    },
    {
      "cell_type": "code",
      "source": [
        "week = [\"Sunday\", \"Monday\", \"Tuesday\", \"Wednesday\", \"Thursday\",\"Friday\",\"Saturday\"]\n",
        "for x in week:\n",
        "  if x==\"Thursday\":\n",
        "    print(x)\n",
        "    break\n",
        "    \n",
        "    "
      ],
      "metadata": {
        "colab": {
          "base_uri": "https://localhost:8080/"
        },
        "id": "kZaI1bHzS4Vs",
        "outputId": "a0c79e71-edb9-44c1-f755-a0b4b6035790"
      },
      "execution_count": 4,
      "outputs": [
        {
          "output_type": "stream",
          "name": "stdout",
          "text": [
            "Thursday\n"
          ]
        }
      ]
    },
    {
      "cell_type": "markdown",
      "source": [
        "Looping through string\n"
      ],
      "metadata": {
        "id": "vDpLod5fS669"
      }
    },
    {
      "cell_type": "code",
      "source": [
        "for x in \"Philippines\":\n",
        "  print (x)\n",
        "     "
      ],
      "metadata": {
        "colab": {
          "base_uri": "https://localhost:8080/"
        },
        "id": "BC-p5c6ZS8zk",
        "outputId": "74106795-9e6c-403d-8f03-da2092e38a45"
      },
      "execution_count": 5,
      "outputs": [
        {
          "output_type": "stream",
          "name": "stdout",
          "text": [
            "P\n",
            "h\n",
            "i\n",
            "l\n",
            "i\n",
            "p\n",
            "p\n",
            "i\n",
            "n\n",
            "e\n",
            "s\n"
          ]
        }
      ]
    },
    {
      "cell_type": "markdown",
      "source": [
        "While Loop"
      ],
      "metadata": {
        "id": "G_7jYq90S-38"
      }
    },
    {
      "cell_type": "code",
      "source": [
        "i = 1\n",
        "while i<6:\n",
        "  if i == 4:\n",
        "    print(i)\n",
        "    break\n",
        "  i+=1\n",
        "  "
      ],
      "metadata": {
        "colab": {
          "base_uri": "https://localhost:8080/"
        },
        "id": "yzWBQENtS_fF",
        "outputId": "929c8f15-a51e-4019-9cb0-f8392c8769f3"
      },
      "execution_count": 6,
      "outputs": [
        {
          "output_type": "stream",
          "name": "stdout",
          "text": [
            "4\n"
          ]
        }
      ]
    },
    {
      "cell_type": "markdown",
      "source": [
        "Application 1"
      ],
      "metadata": {
        "id": "CfJxVhAFTByl"
      }
    },
    {
      "cell_type": "code",
      "source": [
        "i = 0\n",
        "while i<11:\n",
        "  print(\"Hello\",(i))\n",
        "  i+=1  \n",
        "     "
      ],
      "metadata": {
        "colab": {
          "base_uri": "https://localhost:8080/"
        },
        "id": "5ZKYszF7TCT1",
        "outputId": "3405f1d3-db2b-423b-827f-3fab39b361a5"
      },
      "execution_count": 7,
      "outputs": [
        {
          "output_type": "stream",
          "name": "stdout",
          "text": [
            "Hello 0\n",
            "Hello 1\n",
            "Hello 2\n",
            "Hello 3\n",
            "Hello 4\n",
            "Hello 5\n",
            "Hello 6\n",
            "Hello 7\n",
            "Hello 8\n",
            "Hello 9\n",
            "Hello 10\n"
          ]
        }
      ]
    },
    {
      "cell_type": "markdown",
      "source": [
        "Application 2"
      ],
      "metadata": {
        "id": "FHD9U-XETEts"
      }
    },
    {
      "cell_type": "code",
      "source": [
        "i = 3\n",
        "while i<10:\n",
        "  print(i)\n",
        "  i+=1\n"
      ],
      "metadata": {
        "colab": {
          "base_uri": "https://localhost:8080/"
        },
        "id": "X3Mkx8IvTFON",
        "outputId": "269ec274-cf98-4336-d861-164c81339bba"
      },
      "execution_count": 8,
      "outputs": [
        {
          "output_type": "stream",
          "name": "stdout",
          "text": [
            "3\n",
            "4\n",
            "5\n",
            "6\n",
            "7\n",
            "8\n",
            "9\n"
          ]
        }
      ]
    }
  ]
}