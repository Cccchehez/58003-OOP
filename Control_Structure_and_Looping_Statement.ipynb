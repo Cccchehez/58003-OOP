{
  "nbformat": 4,
  "nbformat_minor": 0,
  "metadata": {
    "colab": {
      "provenance": [],
      "toc_visible": true,
      "authorship_tag": "ABX9TyMLrbQOjAYtyzP+RHOK50FI",
      "include_colab_link": true
    },
    "kernelspec": {
      "name": "python3",
      "display_name": "Python 3"
    },
    "language_info": {
      "name": "python"
    }
  },
  "cells": [
    {
      "cell_type": "markdown",
      "metadata": {
        "id": "view-in-github",
        "colab_type": "text"
      },
      "source": [
        "<a href=\"https://colab.research.google.com/github/RemaldoraCarl/58003-OOP/blob/main/Control_Structure_and_Looping_Statement.ipynb\" target=\"_parent\"><img src=\"https://colab.research.google.com/assets/colab-badge.svg\" alt=\"Open In Colab\"/></a>"
      ]
    },
    {
      "cell_type": "code",
      "source": [
        "if 5>3:\n",
        "  print(\"five is greater than three\")\n",
        "     "
      ],
      "metadata": {
        "colab": {
          "base_uri": "https://localhost:8080/"
        },
        "id": "9riPESsbSlIN",
        "outputId": "1394dc2f-82bc-4447-9174-5daf6ddbcf4a"
      },
      "execution_count": 42,
      "outputs": [
        {
          "output_type": "stream",
          "name": "stdout",
          "text": [
            "five is greater than three\n"
          ]
        }
      ]
    },
    {
      "cell_type": "markdown",
      "source": [
        "If and Elif Condition"
      ],
      "metadata": {
        "id": "anUKZXriSrH1"
      }
    },
    {
      "cell_type": "code",
      "source": [
        "if 3>5:\n",
        "  print(\"three is greater than five\")\n",
        "elif 3<5:\n",
        "  print(\"three is less than five\")"
      ],
      "metadata": {
        "colab": {
          "base_uri": "https://localhost:8080/"
        },
        "id": "FXBA8ao9SsEt",
        "outputId": "8ab5b8e7-86a5-4631-885e-05a640a1c4d3"
      },
      "execution_count": 43,
      "outputs": [
        {
          "output_type": "stream",
          "name": "stdout",
          "text": [
            "three is less than five\n"
          ]
        }
      ]
    },
    {
      "cell_type": "markdown",
      "source": [
        "If, Elif, and Else"
      ],
      "metadata": {
        "id": "7QtM0855SxPN"
      }
    },
    {
      "cell_type": "code",
      "source": [
        "if 3>2:\n",
        "  print(\"three is greater than two\")\n",
        "elif 3==2:\n",
        "  print(\"three is equal two\")\n",
        "else:\n",
        "  print(\"three is less than two\")\n",
        "     "
      ],
      "metadata": {
        "colab": {
          "base_uri": "https://localhost:8080/"
        },
        "id": "4vxCevnjSxy-",
        "outputId": "70689080-44e6-47e3-f1d2-eca876e5bf9f"
      },
      "execution_count": 44,
      "outputs": [
        {
          "output_type": "stream",
          "name": "stdout",
          "text": [
            "three is greater than two\n"
          ]
        }
      ]
    },
    {
      "cell_type": "markdown",
      "source": [
        "Application 1 - Create a python program that will compare if the student is in Elementary, Secondary, and Tertiary Level\n"
      ],
      "metadata": {
        "id": "X436yzo4S1-h"
      }
    },
    {
      "cell_type": "code",
      "source": [
        "print(\"Type the grade level of the student:\")\n",
        "print(\"1 - 6 = Elementary\")\n",
        "print(\"6 - 12 = Secondary\")\n",
        "print(\"None of the choices above = Tertiary\")\n",
        "\n",
        "x = int(input())\n",
        "if x ==1 or x ==2 or x ==3 or x ==4 or x ==5 or x==6:\n",
        "  print(\"Elementary\")\n",
        "elif x==7 or x==8 or x==9 or x==10 or x==11 or x==12:\n",
        "  print(\"Secondary\")\n",
        "else:\n",
        "  print(\"You are in Tertiary Level\")"
      ],
      "metadata": {
        "colab": {
          "base_uri": "https://localhost:8080/"
        },
        "id": "88rraq7sS4d6",
        "outputId": "103bff13-99a9-47ba-f8ee-cc0913051336"
      },
      "execution_count": 46,
      "outputs": [
        {
          "output_type": "stream",
          "name": "stdout",
          "text": [
            "Type the grade level of the student:\n",
            "1 - 6 = Elementary\n",
            "6 - 12 = Secondary\n",
            "None of the choices above = Tertiary\n",
            "11\n",
            "Secondary\n"
          ]
        }
      ]
    },
    {
      "cell_type": "markdown",
      "source": [
        "Short Hand If Statement"
      ],
      "metadata": {
        "id": "KiMIZ2ABTI_y"
      }
    },
    {
      "cell_type": "code",
      "execution_count": 4,
      "metadata": {
        "colab": {
          "base_uri": "https://localhost:8080/"
        },
        "id": "Sl8Ao-hSFL06",
        "outputId": "43a17fbd-07fa-4d7b-8d1c-eecf7b29ef56"
      },
      "outputs": [
        {
          "output_type": "stream",
          "name": "stdout",
          "text": [
            "above ten\n",
            "below 20\n"
          ]
        }
      ],
      "source": [
        "x = 20\n",
        "\n",
        "if x>10:\n",
        "  print(\"above ten\")\n",
        "  if x>20:\n",
        "    print(\"and also above 20!\")\n",
        "    if x>30:\n",
        "      print(\"and also above 30!\")\n",
        "      if x>40:\n",
        "        print(\"and also above 40\")\n",
        "        if x>50:\n",
        "          print(\"and also above 50\")\n",
        "        else:\n",
        "           print(\"below 50\")\n",
        "      else:\n",
        "         print(\"below 40\")\n",
        "    else:\n",
        "       print(\"below 30\")\n",
        "  else:\n",
        "    print(\"below 20\")     \n",
        "else:\n",
        "   print(\"below 10\")"
      ]
    },
    {
      "cell_type": "code",
      "source": [
        "x=int(input())\n",
        "\n",
        "if x>18:\n",
        "  print(\"the qualifiying age is 18 years old and above\")\n",
        "else:\n",
        "  print(\"the qualifiying age is 18 years old and above\")\n",
        "\n",
        "\n"
      ],
      "metadata": {
        "colab": {
          "base_uri": "https://localhost:8080/"
        },
        "id": "KOdsBNhQLJ4M",
        "outputId": "57ce7151-1d8e-48a8-a4ad-c159559f1461"
      },
      "execution_count": 13,
      "outputs": [
        {
          "output_type": "stream",
          "name": "stdout",
          "text": [
            "19\n",
            "the qualifiying age is 18 years old and above\n"
          ]
        }
      ]
    },
    {
      "cell_type": "code",
      "source": [
        "x=int(input())\n",
        "\n",
        "if x==0:\n",
        "  print(\"Zero\")\n",
        "  elif x<0:\n",
        "  print(\"Positive\")\n",
        "   else\n",
        "  print(\"Negative\")"
      ],
      "metadata": {
        "colab": {
          "base_uri": "https://localhost:8080/",
          "height": 130
        },
        "id": "BlbPLLx_Ni15",
        "outputId": "9244a3bc-77c2-4ea2-b84a-ec57d24b5b3a"
      },
      "execution_count": 41,
      "outputs": [
        {
          "output_type": "error",
          "ename": "SyntaxError",
          "evalue": "ignored",
          "traceback": [
            "\u001b[0;36m  File \u001b[0;32m\"<ipython-input-41-8be6d9e29bb7>\"\u001b[0;36m, line \u001b[0;32m5\u001b[0m\n\u001b[0;31m    elif x<0:\u001b[0m\n\u001b[0m    ^\u001b[0m\n\u001b[0;31mSyntaxError\u001b[0m\u001b[0;31m:\u001b[0m invalid syntax\n"
          ]
        }
      ]
    },
    {
      "cell_type": "code",
      "source": [
        "print(\"Input Subject Grades\")\n",
        "u = int(input())\n",
        "v = int(input())\n",
        "x = int(input())\n",
        "y = int(input())\n",
        "z = int(input())\n",
        "\n",
        "a = u*0.10 + v*0.20 + x*0.20 + y*0.30 + z*0.20 \n",
        "print(\"Your average grade is\",a)\n",
        "if a>75:\n",
        "  print(\"Passed\")\n",
        "elif a>70:\n",
        "  print(\"Remedial\")\n",
        "elif a>65:\n",
        "  print(\"Failed\")"
      ],
      "metadata": {
        "colab": {
          "base_uri": "https://localhost:8080/"
        },
        "id": "TFsfI35sNz_9",
        "outputId": "80e948c5-b7e1-446c-ddaa-440e4c9aa573"
      },
      "execution_count": 48,
      "outputs": [
        {
          "output_type": "stream",
          "name": "stdout",
          "text": [
            "Input Subject Grades\n",
            "75\n",
            "82\n",
            "92\n",
            "75\n",
            "52\n",
            "Your average grade is 75.20000000000002\n",
            "Passed\n"
          ]
        }
      ]
    }
  ]
}